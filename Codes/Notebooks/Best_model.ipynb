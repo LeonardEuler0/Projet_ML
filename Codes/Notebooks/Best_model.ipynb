{
 "cells": [
  {
   "cell_type": "code",
   "execution_count": 63,
   "id": "00d1a226-e312-4695-81fe-d9713e8acb95",
   "metadata": {},
   "outputs": [],
   "source": [
    "import dill\n",
    "from sklearn.pipeline import Pipeline\n",
    "import Traitement_de_texte as tt\n",
    "import numpy as np\n",
    "import pandas as pd\n",
    "import matplotlib.pyplot as plt\n",
    "from sklearn.base import clone\n",
    "from sklearn.dummy import DummyClassifier\n",
    "from sklearn.model_selection import train_test_split, GridSearchCV, StratifiedKFold\n",
    "from sklearn.linear_model import LogisticRegression\n",
    "from sklearn.dummy import DummyClassifier\n",
    "from sklearn.pipeline import Pipeline\n",
    "from Traitement_de_texte import preprocess_text\n",
    "from sklearn.feature_extraction.text import TfidfVectorizer\n",
    "from sklearn.preprocessing import FunctionTransformer\n",
    "from sklearn.compose import ColumnTransformer\n",
    "from sklearn.naive_bayes import MultinomialNB"
   ]
  },
  {
   "cell_type": "code",
   "execution_count": 8,
   "id": "1c7910cf-5b51-4a69-82d4-0295f85a3bd3",
   "metadata": {},
   "outputs": [],
   "source": [
    "chemin = r'C:\\Users\\HP\\Desktop\\ISEP2\\Semestre2\\Machine Learning\\Projet\\Models\\train_test_split.dill'\n",
    "with open(chemin, 'rb') as f:\n",
    "    x_train, x_test, y_train, y_test = dill.load(f)"
   ]
  },
  {
   "cell_type": "code",
   "execution_count": 4,
   "id": "6759ba3d-5c8e-4637-b380-f2d005ac8f0f",
   "metadata": {},
   "outputs": [],
   "source": [
    "import logging\n",
    "logging.basicConfig(level=logging.INFO)\n",
    "logger = logging.getLogger(__name__)"
   ]
  },
  {
   "cell_type": "markdown",
   "id": "66dea276-e858-4dfc-9f7d-2b50dda66924",
   "metadata": {},
   "source": [
    "### Chargement des modéles"
   ]
  },
  {
   "cell_type": "code",
   "execution_count": 5,
   "id": "ff79a020-3ef9-49d6-b52b-27688a877d9f",
   "metadata": {},
   "outputs": [
    {
     "name": "stdout",
     "output_type": "stream",
     "text": [
      "NB chargé avec succès.\n",
      "RL chargé avec succès.\n",
      "RF chargé avec succès.\n",
      "XGB chargé avec succès.\n"
     ]
    }
   ],
   "source": [
    "from pathlib import Path\n",
    "import dill\n",
    "\n",
    "# Répertoires des modèles\n",
    "MODEL_DIR = r'C:\\Users\\HP\\Desktop\\ISEP2\\Semestre2\\Machine Learning\\Projet\\Models'\n",
    "\n",
    "# Chemins vers les modèles\n",
    "model_paths = {\n",
    "    \"nb\": Path(MODEL_DIR, \"nb_best_model_optimized.dill\"),\n",
    "    \"rl\": Path(MODEL_DIR, \"rl_best_model_optimized.dill\"),\n",
    "    \"rf\": Path(MODEL_DIR, \"rf_best_model_optimized.dill\"),\n",
    "    \"xgb\": Path(MODEL_DIR, \"xgb_best_model_optimized.dill\")\n",
    "}\n",
    "\n",
    "# Chargement des modèles\n",
    "models = {}\n",
    "for name, path in model_paths.items():\n",
    "    with open(path, \"rb\") as f:\n",
    "        models[name] = dill.load(f)\n",
    "        print(f\"{name.upper()} chargé avec succès.\")\n"
   ]
  },
  {
   "cell_type": "code",
   "execution_count": 6,
   "id": "3d8f8e93-1981-41d1-8b6a-17b13692f050",
   "metadata": {},
   "outputs": [
    {
     "name": "stdout",
     "output_type": "stream",
     "text": [
      "\n",
      "--- NB ---\n",
      "Seuil optimal : 0.34\n",
      "AUC : 0.8803\n",
      "Classification Report :\n",
      "              precision    recall  f1-score   support\n",
      "\n",
      "           0       0.92      0.91      0.91      1851\n",
      "           1       0.62      0.65      0.63       423\n",
      "\n",
      "    accuracy                           0.86      2274\n",
      "   macro avg       0.77      0.78      0.77      2274\n",
      "weighted avg       0.86      0.86      0.86      2274\n",
      "\n",
      "\n",
      "--- RL ---\n",
      "Seuil optimal : 0.37\n",
      "AUC : 0.8950\n",
      "Classification Report :\n",
      "              precision    recall  f1-score   support\n",
      "\n",
      "           0       0.92      0.93      0.92      1851\n",
      "           1       0.67      0.63      0.65       423\n",
      "\n",
      "    accuracy                           0.87      2274\n",
      "   macro avg       0.79      0.78      0.79      2274\n",
      "weighted avg       0.87      0.87      0.87      2274\n",
      "\n",
      "\n",
      "--- RF ---\n",
      "Seuil optimal : 0.52\n",
      "AUC : 0.8877\n",
      "Classification Report :\n",
      "              precision    recall  f1-score   support\n",
      "\n",
      "           0       0.87      0.98      0.92      1851\n",
      "           1       0.82      0.37      0.51       423\n",
      "\n",
      "    accuracy                           0.87      2274\n",
      "   macro avg       0.85      0.68      0.72      2274\n",
      "weighted avg       0.86      0.87      0.85      2274\n",
      "\n",
      "\n",
      "--- XGB ---\n",
      "Seuil optimal : 0.26\n",
      "AUC : 0.8657\n",
      "Classification Report :\n",
      "              precision    recall  f1-score   support\n",
      "\n",
      "           0       0.91      0.92      0.91      1851\n",
      "           1       0.62      0.60      0.61       423\n",
      "\n",
      "    accuracy                           0.86      2274\n",
      "   macro avg       0.76      0.76      0.76      2274\n",
      "weighted avg       0.86      0.86      0.86      2274\n",
      "\n"
     ]
    }
   ],
   "source": [
    "from sklearn.metrics import roc_auc_score, classification_report\n",
    "\n",
    "for name, model in models.items():\n",
    "    print(f\"\\n--- {name.upper()} ---\")\n",
    "    print(f\"Seuil optimal : {model.threshold}\")\n",
    "    \n",
    "    # Prédictions sur le jeu de test\n",
    "    proba = model.predict_proba(x_test)[:, 1]\n",
    "    preds = model.predict(x_test)\n",
    "    \n",
    "    # Évaluation\n",
    "    print(f\"AUC : {roc_auc_score(y_test, proba):.4f}\")\n",
    "    print(f\"Classification Report :\\n{classification_report(y_test, preds)}\")\n"
   ]
  },
  {
   "cell_type": "markdown",
   "id": "2df2f23e-1c3d-4af9-93fe-f2c6d98124c6",
   "metadata": {},
   "source": [
    "### Best modéle"
   ]
  },
  {
   "cell_type": "markdown",
   "id": "843a0a26-041d-43cf-8d90-c32fcdac3131",
   "metadata": {},
   "source": [
    "##### Le meilleur modéle obtenu est la régression logistique avec un auc de 0.8950, un seuil de 0.37 et un f1-score de 0.65 pour la classe 1"
   ]
  },
  {
   "cell_type": "markdown",
   "id": "ed41e810-03f9-4cb5-ac09-900cc2fd13bd",
   "metadata": {},
   "source": [
    "### Features importance"
   ]
  },
  {
   "cell_type": "code",
   "execution_count": null,
   "id": "6a4bb755-c618-4d2f-b76b-d2c058f3aeff",
   "metadata": {},
   "outputs": [],
   "source": []
  }
 ],
 "metadata": {
  "kernelspec": {
   "display_name": "Python 3 (ipykernel)",
   "language": "python",
   "name": "python3"
  },
  "language_info": {
   "codemirror_mode": {
    "name": "ipython",
    "version": 3
   },
   "file_extension": ".py",
   "mimetype": "text/x-python",
   "name": "python",
   "nbconvert_exporter": "python",
   "pygments_lexer": "ipython3",
   "version": "3.12.3"
  }
 },
 "nbformat": 4,
 "nbformat_minor": 5
}
